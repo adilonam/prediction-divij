{
 "cells": [
  {
   "cell_type": "code",
   "execution_count": 14,
   "metadata": {
    "colab": {
     "base_uri": "https://localhost:8080/",
     "height": 424
    },
    "id": "1plAjJR81ial",
    "outputId": "e5575527-b9d7-4e86-cf5e-bbbf263e6716"
   },
   "outputs": [
    {
     "data": {
      "text/html": [
       "<div>\n",
       "<style scoped>\n",
       "    .dataframe tbody tr th:only-of-type {\n",
       "        vertical-align: middle;\n",
       "    }\n",
       "\n",
       "    .dataframe tbody tr th {\n",
       "        vertical-align: top;\n",
       "    }\n",
       "\n",
       "    .dataframe thead th {\n",
       "        text-align: right;\n",
       "    }\n",
       "</style>\n",
       "<table border=\"1\" class=\"dataframe\">\n",
       "  <thead>\n",
       "    <tr style=\"text-align: right;\">\n",
       "      <th></th>\n",
       "      <th>Date</th>\n",
       "      <th>Inventory</th>\n",
       "    </tr>\n",
       "  </thead>\n",
       "  <tbody>\n",
       "    <tr>\n",
       "      <th>0</th>\n",
       "      <td>2023-07-03</td>\n",
       "      <td>0.00</td>\n",
       "    </tr>\n",
       "    <tr>\n",
       "      <th>1</th>\n",
       "      <td>2023-07-04</td>\n",
       "      <td>-5.00</td>\n",
       "    </tr>\n",
       "    <tr>\n",
       "      <th>2</th>\n",
       "      <td>2023-07-05</td>\n",
       "      <td>-4.80</td>\n",
       "    </tr>\n",
       "    <tr>\n",
       "      <th>3</th>\n",
       "      <td>2023-07-06</td>\n",
       "      <td>0.00</td>\n",
       "    </tr>\n",
       "    <tr>\n",
       "      <th>4</th>\n",
       "      <td>2023-07-07</td>\n",
       "      <td>19.45</td>\n",
       "    </tr>\n",
       "    <tr>\n",
       "      <th>...</th>\n",
       "      <td>...</td>\n",
       "      <td>...</td>\n",
       "    </tr>\n",
       "    <tr>\n",
       "      <th>350</th>\n",
       "      <td>2024-11-07</td>\n",
       "      <td>-32.15</td>\n",
       "    </tr>\n",
       "    <tr>\n",
       "      <th>351</th>\n",
       "      <td>2024-11-08</td>\n",
       "      <td>-11.05</td>\n",
       "    </tr>\n",
       "    <tr>\n",
       "      <th>352</th>\n",
       "      <td>2024-11-11</td>\n",
       "      <td>31.00</td>\n",
       "    </tr>\n",
       "    <tr>\n",
       "      <th>353</th>\n",
       "      <td>2024-11-12</td>\n",
       "      <td>13.60</td>\n",
       "    </tr>\n",
       "    <tr>\n",
       "      <th>354</th>\n",
       "      <td>2024-11-13</td>\n",
       "      <td>-26.05</td>\n",
       "    </tr>\n",
       "  </tbody>\n",
       "</table>\n",
       "<p>355 rows × 2 columns</p>\n",
       "</div>"
      ],
      "text/plain": [
       "          Date  Inventory\n",
       "0   2023-07-03       0.00\n",
       "1   2023-07-04      -5.00\n",
       "2   2023-07-05      -4.80\n",
       "3   2023-07-06       0.00\n",
       "4   2023-07-07      19.45\n",
       "..         ...        ...\n",
       "350 2024-11-07     -32.15\n",
       "351 2024-11-08     -11.05\n",
       "352 2024-11-11      31.00\n",
       "353 2024-11-12      13.60\n",
       "354 2024-11-13     -26.05\n",
       "\n",
       "[355 rows x 2 columns]"
      ]
     },
     "execution_count": 14,
     "metadata": {},
     "output_type": "execute_result"
    }
   ],
   "source": [
    "%reset -f\n",
    "\n",
    "##read excel\n",
    "import pandas as pd\n",
    "data_path = \"./dataset/data-divij.xlsx\"\n",
    "df= pd.read_excel(data_path, engine='openpyxl')\n",
    "\n",
    "df"
   ]
  },
  {
   "cell_type": "code",
   "execution_count": 15,
   "metadata": {
    "colab": {
     "base_uri": "https://localhost:8080/"
    },
    "id": "EOGDrTkq1kRl",
    "outputId": "356282eb-8e09-472b-ccec-d09746501cfc"
   },
   "outputs": [
    {
     "name": "stdout",
     "output_type": "stream",
     "text": [
      "<class 'pandas.core.frame.DataFrame'>\n",
      "RangeIndex: 355 entries, 0 to 354\n",
      "Data columns (total 2 columns):\n",
      " #   Column     Non-Null Count  Dtype         \n",
      "---  ------     --------------  -----         \n",
      " 0   Date       355 non-null    datetime64[ns]\n",
      " 1   Inventory  355 non-null    float64       \n",
      "dtypes: datetime64[ns](1), float64(1)\n",
      "memory usage: 5.7 KB\n"
     ]
    }
   ],
   "source": [
    "df.info()"
   ]
  },
  {
   "cell_type": "code",
   "execution_count": 16,
   "metadata": {
    "colab": {
     "base_uri": "https://localhost:8080/",
     "height": 424
    },
    "id": "PF7AOcRj2qoJ",
    "outputId": "72715b47-37a5-4393-e6a1-17211462fb42"
   },
   "outputs": [
    {
     "data": {
      "text/html": [
       "<div>\n",
       "<style scoped>\n",
       "    .dataframe tbody tr th:only-of-type {\n",
       "        vertical-align: middle;\n",
       "    }\n",
       "\n",
       "    .dataframe tbody tr th {\n",
       "        vertical-align: top;\n",
       "    }\n",
       "\n",
       "    .dataframe thead th {\n",
       "        text-align: right;\n",
       "    }\n",
       "</style>\n",
       "<table border=\"1\" class=\"dataframe\">\n",
       "  <thead>\n",
       "    <tr style=\"text-align: right;\">\n",
       "      <th></th>\n",
       "      <th>Date</th>\n",
       "      <th>Inventory</th>\n",
       "      <th>Year</th>\n",
       "      <th>Month</th>\n",
       "      <th>Day_of_Month</th>\n",
       "      <th>Day_of_Week</th>\n",
       "      <th>Day_of_Year</th>\n",
       "      <th>Inventory_is_Positive</th>\n",
       "    </tr>\n",
       "  </thead>\n",
       "  <tbody>\n",
       "    <tr>\n",
       "      <th>0</th>\n",
       "      <td>2023-07-03</td>\n",
       "      <td>0.00</td>\n",
       "      <td>2023</td>\n",
       "      <td>7</td>\n",
       "      <td>3</td>\n",
       "      <td>0</td>\n",
       "      <td>184</td>\n",
       "      <td>0</td>\n",
       "    </tr>\n",
       "    <tr>\n",
       "      <th>1</th>\n",
       "      <td>2023-07-04</td>\n",
       "      <td>-5.00</td>\n",
       "      <td>2023</td>\n",
       "      <td>7</td>\n",
       "      <td>4</td>\n",
       "      <td>1</td>\n",
       "      <td>185</td>\n",
       "      <td>0</td>\n",
       "    </tr>\n",
       "    <tr>\n",
       "      <th>2</th>\n",
       "      <td>2023-07-05</td>\n",
       "      <td>-4.80</td>\n",
       "      <td>2023</td>\n",
       "      <td>7</td>\n",
       "      <td>5</td>\n",
       "      <td>2</td>\n",
       "      <td>186</td>\n",
       "      <td>0</td>\n",
       "    </tr>\n",
       "    <tr>\n",
       "      <th>3</th>\n",
       "      <td>2023-07-06</td>\n",
       "      <td>0.00</td>\n",
       "      <td>2023</td>\n",
       "      <td>7</td>\n",
       "      <td>6</td>\n",
       "      <td>3</td>\n",
       "      <td>187</td>\n",
       "      <td>0</td>\n",
       "    </tr>\n",
       "    <tr>\n",
       "      <th>4</th>\n",
       "      <td>2023-07-07</td>\n",
       "      <td>19.45</td>\n",
       "      <td>2023</td>\n",
       "      <td>7</td>\n",
       "      <td>7</td>\n",
       "      <td>4</td>\n",
       "      <td>188</td>\n",
       "      <td>1</td>\n",
       "    </tr>\n",
       "    <tr>\n",
       "      <th>...</th>\n",
       "      <td>...</td>\n",
       "      <td>...</td>\n",
       "      <td>...</td>\n",
       "      <td>...</td>\n",
       "      <td>...</td>\n",
       "      <td>...</td>\n",
       "      <td>...</td>\n",
       "      <td>...</td>\n",
       "    </tr>\n",
       "    <tr>\n",
       "      <th>350</th>\n",
       "      <td>2024-11-07</td>\n",
       "      <td>-32.15</td>\n",
       "      <td>2024</td>\n",
       "      <td>11</td>\n",
       "      <td>7</td>\n",
       "      <td>3</td>\n",
       "      <td>312</td>\n",
       "      <td>0</td>\n",
       "    </tr>\n",
       "    <tr>\n",
       "      <th>351</th>\n",
       "      <td>2024-11-08</td>\n",
       "      <td>-11.05</td>\n",
       "      <td>2024</td>\n",
       "      <td>11</td>\n",
       "      <td>8</td>\n",
       "      <td>4</td>\n",
       "      <td>313</td>\n",
       "      <td>0</td>\n",
       "    </tr>\n",
       "    <tr>\n",
       "      <th>352</th>\n",
       "      <td>2024-11-11</td>\n",
       "      <td>31.00</td>\n",
       "      <td>2024</td>\n",
       "      <td>11</td>\n",
       "      <td>11</td>\n",
       "      <td>0</td>\n",
       "      <td>316</td>\n",
       "      <td>1</td>\n",
       "    </tr>\n",
       "    <tr>\n",
       "      <th>353</th>\n",
       "      <td>2024-11-12</td>\n",
       "      <td>13.60</td>\n",
       "      <td>2024</td>\n",
       "      <td>11</td>\n",
       "      <td>12</td>\n",
       "      <td>1</td>\n",
       "      <td>317</td>\n",
       "      <td>1</td>\n",
       "    </tr>\n",
       "    <tr>\n",
       "      <th>354</th>\n",
       "      <td>2024-11-13</td>\n",
       "      <td>-26.05</td>\n",
       "      <td>2024</td>\n",
       "      <td>11</td>\n",
       "      <td>13</td>\n",
       "      <td>2</td>\n",
       "      <td>318</td>\n",
       "      <td>0</td>\n",
       "    </tr>\n",
       "  </tbody>\n",
       "</table>\n",
       "<p>355 rows × 8 columns</p>\n",
       "</div>"
      ],
      "text/plain": [
       "          Date  Inventory  Year  Month  Day_of_Month  Day_of_Week  \\\n",
       "0   2023-07-03       0.00  2023      7             3            0   \n",
       "1   2023-07-04      -5.00  2023      7             4            1   \n",
       "2   2023-07-05      -4.80  2023      7             5            2   \n",
       "3   2023-07-06       0.00  2023      7             6            3   \n",
       "4   2023-07-07      19.45  2023      7             7            4   \n",
       "..         ...        ...   ...    ...           ...          ...   \n",
       "350 2024-11-07     -32.15  2024     11             7            3   \n",
       "351 2024-11-08     -11.05  2024     11             8            4   \n",
       "352 2024-11-11      31.00  2024     11            11            0   \n",
       "353 2024-11-12      13.60  2024     11            12            1   \n",
       "354 2024-11-13     -26.05  2024     11            13            2   \n",
       "\n",
       "     Day_of_Year  Inventory_is_Positive  \n",
       "0            184                      0  \n",
       "1            185                      0  \n",
       "2            186                      0  \n",
       "3            187                      0  \n",
       "4            188                      1  \n",
       "..           ...                    ...  \n",
       "350          312                      0  \n",
       "351          313                      0  \n",
       "352          316                      1  \n",
       "353          317                      1  \n",
       "354          318                      0  \n",
       "\n",
       "[355 rows x 8 columns]"
      ]
     },
     "execution_count": 16,
     "metadata": {},
     "output_type": "execute_result"
    }
   ],
   "source": [
    "# add related columns\n",
    "\n",
    "df['Year'] = df['Date'].dt.year\n",
    "df['Month'] = df['Date'].dt.month\n",
    "df['Day_of_Month'] = df['Date'].dt.day\n",
    "df['Day_of_Week'] = df['Date'].dt.dayofweek\n",
    "df['Day_of_Year'] = df['Date'].dt.dayofyear\n",
    "df['Inventory_is_Positive'] = df['Inventory'].apply(lambda x: 1 if x > 0 else 0)\n",
    "\n",
    "SEQ_LEN = 0\n",
    "for i in range(1, SEQ_LEN + 1):\n",
    "    df[f'Inventory_Lag_{i}'] = df['Inventory'].shift(i)\n",
    "\n",
    "df.dropna(inplace=True)\n",
    "\n",
    "df"
   ]
  },
  {
   "cell_type": "code",
   "execution_count": 17,
   "metadata": {
    "colab": {
     "base_uri": "https://localhost:8080/",
     "height": 607
    },
    "id": "Ks6bkqZX5ATi",
    "outputId": "6077c224-c06a-4ff1-e06c-987d2c141f04"
   },
   "outputs": [
    {
     "data": {
      "image/png": "[encoded data removed]",
      "text/plain": [
       "<Figure size 1000x600 with 1 Axes>"
      ]
     },
     "metadata": {},
     "output_type": "display_data"
    }
   ],
   "source": [
    "#plot data for last 10 days\n",
    "\n",
    "import matplotlib.pyplot as plt\n",
    "\n",
    "# Filter for the last week\n",
    "plot_data = df[df['Date'] >= (df['Date'].max() - pd.Timedelta(days=10))]\n",
    "\n",
    "# Plot\n",
    "plt.figure(figsize=(10, 6))\n",
    "plt.step(plot_data.index, plot_data['Inventory_is_Positive'], where='post', marker='o', linestyle='-', color='b')\n",
    "plt.title('Inventory Status Over Time (Last Week)')\n",
    "plt.xlabel('Date')\n",
    "plt.ylabel('Inventory is Positive')\n",
    "plt.yticks([0, 1], ['No', 'Yes'])\n",
    "plt.grid(True)\n",
    "plt.xticks(rotation=45)\n",
    "plt.tight_layout()\n",
    "plt.show()"
   ]
  },
  {
   "cell_type": "code",
   "execution_count": 18,
   "metadata": {
    "colab": {
     "base_uri": "https://localhost:8080/"
    },
    "id": "l_VY2JUoKuFy",
    "outputId": "2a2c23ae-6537-4af9-8c77-c9e0ba79da87"
   },
   "outputs": [
    {
     "data": {
      "text/plain": [
       "Index(['Date', 'Inventory', 'Year', 'Month', 'Day_of_Month', 'Day_of_Week',\n",
       "       'Day_of_Year', 'Inventory_is_Positive'],\n",
       "      dtype='object')"
      ]
     },
     "execution_count": 18,
     "metadata": {},
     "output_type": "execute_result"
    }
   ],
   "source": [
    "df.columns"
   ]
  },
  {
   "cell_type": "code",
   "execution_count": 19,
   "metadata": {
    "colab": {
     "base_uri": "https://localhost:8080/"
    },
    "id": "gqgJjLC4-D6O",
    "outputId": "464065e7-5b58-473f-a46b-90efab0b1db8"
   },
   "outputs": [
    {
     "name": "stdout",
     "output_type": "stream",
     "text": [
      "X shape: (355, 5)\n",
      "y shape: (355,)\n"
     ]
    }
   ],
   "source": [
    "from sklearn.model_selection import train_test_split\n",
    "from sklearn.preprocessing import StandardScaler\n",
    "\n",
    "\n",
    "# Drop the 'Date' column\n",
    "df_preprocessed = df.drop(columns=['Date'])\n",
    "\n",
    "# Separate features and target\n",
    "X = df_preprocessed.drop(columns=['Inventory_is_Positive' , \"Inventory\"]).values\n",
    "y = df_preprocessed['Inventory_is_Positive'].values\n",
    "\n",
    "print(\"X shape:\", X.shape)\n",
    "print(\"y shape:\", y.shape)\n",
    "\n",
    "# Normalize the features\n",
    "scaler = StandardScaler()\n",
    "X_scaled = scaler.fit_transform(X)\n",
    "\n",
    "# Split the data into training and testing sets\n",
    "X_train, X_test, y_train, y_test = train_test_split(X_scaled, y, test_size=0.3, shuffle=False)\n"
   ]
  },
  {
   "cell_type": "code",
   "execution_count": 20,
   "metadata": {
    "colab": {
     "base_uri": "https://localhost:8080/"
    },
    "id": "0gL5bOHeB-vI",
    "outputId": "5ddbd482-c555-4af1-98c9-d15d1bc9336c"
   },
   "outputs": [
    {
     "name": "stdout",
     "output_type": "stream",
     "text": [
      "Accuracy: 0.5233644859813084\n",
      "Mean Squared Error: 0.4766355140186916\n"
     ]
    }
   ],
   "source": [
    "from sklearn.ensemble import RandomForestClassifier, RandomForestRegressor\n",
    "from sklearn.metrics import accuracy_score, mean_squared_error\n",
    "from xgboost import XGBClassifier\n",
    "\n",
    "# Build and train the XGBoost model\n",
    "model = XGBClassifier(random_state=42)\n",
    "model.fit(X_train, y_train)\n",
    "\n",
    "# Make predictions\n",
    "y_pred = model.predict(X_test)\n",
    "\n",
    "# Evaluate the model\n",
    "y_test_binary = (y_test > 0).astype(int)\n",
    "y_pred_binary = (y_pred > 0).astype(int)\n",
    "accuracy = accuracy_score(y_test_binary, y_pred_binary)\n",
    "mse = mean_squared_error(y_test, y_pred)\n",
    "print(f'Accuracy: {accuracy}')\n",
    "print(f'Mean Squared Error: {mse}')\n"
   ]
  },
  {
   "cell_type": "code",
   "execution_count": 21,
   "metadata": {
    "colab": {
     "base_uri": "https://localhost:8080/",
     "height": 1000
    },
    "id": "SRLU16vKHe6w",
    "outputId": "a3fca705-102b-4553-bf43-ae1702cec1ff"
   },
   "outputs": [
    {
     "data": {
      "image/png": "[encoded data removed]",
      "text/plain": [
       "<Figure size 1000x600 with 1 Axes>"
      ]
     },
     "metadata": {},
     "output_type": "display_data"
    },
    {
     "data": {
      "image/png": "[encoded data removed]",
      "text/plain": [
       "<Figure size 1000x600 with 1 Axes>"
      ]
     },
     "metadata": {},
     "output_type": "display_data"
    }
   ],
   "source": [
    "# Create a DataFrame for plotting\n",
    "\n",
    "last_plot = 10\n",
    "plot_data = pd.DataFrame({\n",
    "    'Actual': y_test[-last_plot:],\n",
    "    'Predicted': y_pred.flatten()[-last_plot:]\n",
    "})\n",
    "\n",
    "# plot_data.reset_index(drop=True, inplace=True)\n",
    "# Plot the actual values\n",
    "plt.figure(figsize=(10, 6))\n",
    "plt.step(plot_data.index, plot_data['Actual'], where='post', marker='o', linestyle='-', color='b', label='Actual')\n",
    "plt.title('Actual Inventory_is_Positive')\n",
    "plt.xlabel('Sample Index')\n",
    "plt.ylabel('Inventory is Positive')\n",
    "plt.yticks([0, 1], ['No', 'Yes'])\n",
    "plt.grid(True)\n",
    "plt.legend()\n",
    "plt.tight_layout()\n",
    "plt.show()\n",
    "\n",
    "# Plot the predicted values\n",
    "plt.figure(figsize=(10, 6))\n",
    "plt.step(plot_data.index, plot_data['Predicted'], where='post', marker='x', linestyle='--', color='r', label='Predicted')\n",
    "plt.title('Predicted Inventory_is_Positive')\n",
    "plt.xlabel('Sample Index')\n",
    "plt.ylabel('Inventory is Positive')\n",
    "plt.yticks([0, 1], ['No', 'Yes'])\n",
    "plt.grid(True)\n",
    "plt.legend()\n",
    "plt.tight_layout()\n",
    "plt.show()"
   ]
  },
  {
   "cell_type": "code",
   "execution_count": 22,
   "metadata": {},
   "outputs": [
    {
     "name": "stdout",
     "output_type": "stream",
     "text": [
      "Accuracy: 0.5233644859813084\n",
      "Predicted: [np.int64(0), np.int64(0), np.int64(0), np.int64(1), np.int64(3), np.int64(4), np.int64(4), np.int64(2), np.int64(1), np.int64(2), np.int64(1), np.int64(2), np.int64(3), np.int64(3), np.int64(4), np.int64(1), np.int64(0), np.int64(1), np.int64(0), np.int64(0), np.int64(2)]\n",
      "Actual: [np.int64(1), np.int64(2), np.int64(0), np.int64(3), np.int64(3), np.int64(2), np.int64(4), np.int64(3), np.int64(2), np.int64(2), np.int64(4), np.int64(4), np.int64(1), np.int64(3), np.int64(3), np.int64(3), np.int64(4), np.int64(4), np.int64(1), np.int64(2), np.int64(2)]\n",
      "Mean Squared Error: 3.1904761904761907\n",
      "Root Mean Squared Error: 1.7861904127153383\n"
     ]
    }
   ],
   "source": [
    "# Separate features and target\n",
    "print(f'Accuracy: {accuracy}')\n",
    "\n",
    "day_period = 5\n",
    "\n",
    "y_pred_period = []\n",
    "y_test_period = []\n",
    "count_pred = 0\n",
    "count_test = 0\n",
    "\n",
    "\n",
    "for i in range(len(y_test)):\n",
    "    if i != 0 and i % day_period == 0:\n",
    "        y_pred_period.append(count_pred)\n",
    "        y_test_period.append(count_test)\n",
    "        count_pred = 0\n",
    "        count_test = 0\n",
    "        \n",
    "    count_pred += y_pred[i]\n",
    "    count_test += y_test[i]\n",
    "    \n",
    "print(f'Predicted: {y_pred_period}')\n",
    "print(f'Actual: {y_test_period}')\n",
    "\n",
    "# print mse\n",
    "print(f'Mean Squared Error: {mean_squared_error(y_test_period, y_pred_period)}')\n",
    "import math\n",
    "\n",
    "print(f'Root Mean Squared Error: {math.sqrt(mean_squared_error(y_test_period, y_pred_period))}')"
   ]
  }
 ],
 "metadata": {
  "accelerator": "GPU",
  "colab": {
   "gpuType": "T4",
   "provenance": []
  },
  "kernelspec": {
   "display_name": "prediction-divij",
   "language": "python",
   "name": "python3"
  },
  "language_info": {
   "codemirror_mode": {
    "name": "ipython",
    "version": 3
   },
   "file_extension": ".py",
   "mimetype": "text/x-python",
   "name": "python",
   "nbconvert_exporter": "python",
   "pygments_lexer": "ipython3",
   "version": "3.10.12"
  }
 },
 "nbformat": 4,
 "nbformat_minor": 0
}
